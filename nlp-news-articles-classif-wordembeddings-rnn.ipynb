{
 "cells": [
  {
   "cell_type": "markdown",
   "id": "39e76d07",
   "metadata": {
    "papermill": {
     "duration": 0.003853,
     "end_time": "2022-08-10T13:45:12.412708",
     "exception": false,
     "start_time": "2022-08-10T13:45:12.408855",
     "status": "completed"
    },
    "tags": []
   },
   "source": [
    "# Introduction\n",
    "\n",
    "Text is one of the most widespread forms of sequence data. It can be understood as either a sequence of charactors or a sequence of words, but it's most common to work at level of words. Text-sequence processing includes following applications:\n",
    "\n",
    "**Applications of deep learning for text data:**\n",
    "1. Document classification\n",
    "2. Articles lebelling\n",
    "3. Sentiment analysis\n",
    "4. Author identification\n",
    "5. Quention-answering\n",
    "6. Language detection\n",
    "7. Translation Tasks\n",
    "\n",
    "- In true sense `deep learning models map the statistical structure of written language,` which is sufficient to solve many simple textual tasks and problems.\n",
    "- Deep learning for natural-language processing is `pattern recognition applied to words, sequence, and paragraphs,` in much similar way that computer vision is pattern recognition applied to pixels.\n",
    "- Deep-learning models don't take input as text like other models they only work with numeric tensors\n",
    "\n",
    "**Three techniques to vectorize the text data:**\n",
    "1. Segment text into words, and convert word into a vector\n",
    "2. Segment text into charactors, and transform each chractors into a vector.\n",
    "3. Extract n-grams of words, and transform each n-grams into a vector.\n",
    "\n",
    "- There are many ways one can convert text to vector and it depends on what models one is using along with time or resources utilization.\n",
    "\n",
    "**Typical workflow to model text data for deep learning algorithms:**\n",
    "1. Tokenization\n",
    "2. One-Hot encoding or word indexing\n",
    "3. Pad sequencing \n",
    "4. Embedding layers\n",
    "5. Corresponding word vector\n",
    "\n"
   ]
  },
  {
   "cell_type": "markdown",
   "id": "259c97ec",
   "metadata": {
    "papermill": {
     "duration": 0.002094,
     "end_time": "2022-08-10T13:45:12.417637",
     "exception": false,
     "start_time": "2022-08-10T13:45:12.415543",
     "status": "completed"
    },
    "tags": []
   },
   "source": [
    "*strategy*\n",
    "\n",
    "1 intro with text data workings, applications, problem-statement, use-case, steps and TOC\n",
    "2 text data pre-processing\n",
    "3 tokenizatoin vectorization and word vectors explanation\n",
    "4 eda of dataset\n",
    "5 model building using deep neural network\n",
    "6 RNN and cnn1d Explanation and experimentation"
   ]
  },
  {
   "cell_type": "code",
   "execution_count": 1,
   "id": "8bc34252",
   "metadata": {
    "_cell_guid": "b1076dfc-b9ad-4769-8c92-a6c4dae69d19",
    "_uuid": "8f2839f25d086af736a60e9eeb907d3b93b6e0e5",
    "execution": {
     "iopub.execute_input": "2022-08-10T13:45:12.424634Z",
     "iopub.status.busy": "2022-08-10T13:45:12.424088Z",
     "iopub.status.idle": "2022-08-10T13:45:13.680111Z",
     "shell.execute_reply": "2022-08-10T13:45:13.678689Z"
    },
    "papermill": {
     "duration": 1.263774,
     "end_time": "2022-08-10T13:45:13.683769",
     "exception": false,
     "start_time": "2022-08-10T13:45:12.419995",
     "status": "completed"
    },
    "tags": []
   },
   "outputs": [],
   "source": [
    "import numpy as np\n",
    "import pandas as pd \n",
    "import matplotlib.pyplot as plt\n",
    "import seaborn as sns\n",
    "import os"
   ]
  },
  {
   "cell_type": "code",
   "execution_count": 2,
   "id": "148118dc",
   "metadata": {
    "execution": {
     "iopub.execute_input": "2022-08-10T13:45:13.691730Z",
     "iopub.status.busy": "2022-08-10T13:45:13.690901Z",
     "iopub.status.idle": "2022-08-10T13:45:17.561721Z",
     "shell.execute_reply": "2022-08-10T13:45:17.560200Z"
    },
    "papermill": {
     "duration": 3.880114,
     "end_time": "2022-08-10T13:45:17.566577",
     "exception": false,
     "start_time": "2022-08-10T13:45:13.686463",
     "status": "completed"
    },
    "tags": []
   },
   "outputs": [
    {
     "data": {
      "text/html": [
       "<div>\n",
       "<style scoped>\n",
       "    .dataframe tbody tr th:only-of-type {\n",
       "        vertical-align: middle;\n",
       "    }\n",
       "\n",
       "    .dataframe tbody tr th {\n",
       "        vertical-align: top;\n",
       "    }\n",
       "\n",
       "    .dataframe thead th {\n",
       "        text-align: right;\n",
       "    }\n",
       "</style>\n",
       "<table border=\"1\" class=\"dataframe\">\n",
       "  <thead>\n",
       "    <tr style=\"text-align: right;\">\n",
       "      <th></th>\n",
       "      <th>category</th>\n",
       "      <th>headline</th>\n",
       "      <th>authors</th>\n",
       "      <th>link</th>\n",
       "      <th>short_description</th>\n",
       "      <th>date</th>\n",
       "    </tr>\n",
       "  </thead>\n",
       "  <tbody>\n",
       "    <tr>\n",
       "      <th>0</th>\n",
       "      <td>CRIME</td>\n",
       "      <td>There Were 2 Mass Shootings In Texas Last Week...</td>\n",
       "      <td>Melissa Jeltsen</td>\n",
       "      <td>https://www.huffingtonpost.com/entry/texas-ama...</td>\n",
       "      <td>She left her husband. He killed their children...</td>\n",
       "      <td>2018-05-26</td>\n",
       "    </tr>\n",
       "    <tr>\n",
       "      <th>1</th>\n",
       "      <td>ENTERTAINMENT</td>\n",
       "      <td>Will Smith Joins Diplo And Nicky Jam For The 2...</td>\n",
       "      <td>Andy McDonald</td>\n",
       "      <td>https://www.huffingtonpost.com/entry/will-smit...</td>\n",
       "      <td>Of course it has a song.</td>\n",
       "      <td>2018-05-26</td>\n",
       "    </tr>\n",
       "    <tr>\n",
       "      <th>2</th>\n",
       "      <td>ENTERTAINMENT</td>\n",
       "      <td>Hugh Grant Marries For The First Time At Age 57</td>\n",
       "      <td>Ron Dicker</td>\n",
       "      <td>https://www.huffingtonpost.com/entry/hugh-gran...</td>\n",
       "      <td>The actor and his longtime girlfriend Anna Ebe...</td>\n",
       "      <td>2018-05-26</td>\n",
       "    </tr>\n",
       "    <tr>\n",
       "      <th>3</th>\n",
       "      <td>ENTERTAINMENT</td>\n",
       "      <td>Jim Carrey Blasts 'Castrato' Adam Schiff And D...</td>\n",
       "      <td>Ron Dicker</td>\n",
       "      <td>https://www.huffingtonpost.com/entry/jim-carre...</td>\n",
       "      <td>The actor gives Dems an ass-kicking for not fi...</td>\n",
       "      <td>2018-05-26</td>\n",
       "    </tr>\n",
       "    <tr>\n",
       "      <th>4</th>\n",
       "      <td>ENTERTAINMENT</td>\n",
       "      <td>Julianna Margulies Uses Donald Trump Poop Bags...</td>\n",
       "      <td>Ron Dicker</td>\n",
       "      <td>https://www.huffingtonpost.com/entry/julianna-...</td>\n",
       "      <td>The \"Dietland\" actress said using the bags is ...</td>\n",
       "      <td>2018-05-26</td>\n",
       "    </tr>\n",
       "  </tbody>\n",
       "</table>\n",
       "</div>"
      ],
      "text/plain": [
       "        category                                           headline  \\\n",
       "0          CRIME  There Were 2 Mass Shootings In Texas Last Week...   \n",
       "1  ENTERTAINMENT  Will Smith Joins Diplo And Nicky Jam For The 2...   \n",
       "2  ENTERTAINMENT    Hugh Grant Marries For The First Time At Age 57   \n",
       "3  ENTERTAINMENT  Jim Carrey Blasts 'Castrato' Adam Schiff And D...   \n",
       "4  ENTERTAINMENT  Julianna Margulies Uses Donald Trump Poop Bags...   \n",
       "\n",
       "           authors                                               link  \\\n",
       "0  Melissa Jeltsen  https://www.huffingtonpost.com/entry/texas-ama...   \n",
       "1    Andy McDonald  https://www.huffingtonpost.com/entry/will-smit...   \n",
       "2       Ron Dicker  https://www.huffingtonpost.com/entry/hugh-gran...   \n",
       "3       Ron Dicker  https://www.huffingtonpost.com/entry/jim-carre...   \n",
       "4       Ron Dicker  https://www.huffingtonpost.com/entry/julianna-...   \n",
       "\n",
       "                                   short_description       date  \n",
       "0  She left her husband. He killed their children... 2018-05-26  \n",
       "1                           Of course it has a song. 2018-05-26  \n",
       "2  The actor and his longtime girlfriend Anna Ebe... 2018-05-26  \n",
       "3  The actor gives Dems an ass-kicking for not fi... 2018-05-26  \n",
       "4  The \"Dietland\" actress said using the bags is ... 2018-05-26  "
      ]
     },
     "execution_count": 2,
     "metadata": {},
     "output_type": "execute_result"
    }
   ],
   "source": [
    "df = pd.read_json('../input/news-category-dataset/News_Category_Dataset_v2.json', lines=True)\n",
    "df.head()"
   ]
  },
  {
   "cell_type": "code",
   "execution_count": 3,
   "id": "80fd341b",
   "metadata": {
    "execution": {
     "iopub.execute_input": "2022-08-10T13:45:17.575393Z",
     "iopub.status.busy": "2022-08-10T13:45:17.574923Z",
     "iopub.status.idle": "2022-08-10T13:45:17.582202Z",
     "shell.execute_reply": "2022-08-10T13:45:17.581032Z"
    },
    "papermill": {
     "duration": 0.015061,
     "end_time": "2022-08-10T13:45:17.585117",
     "exception": false,
     "start_time": "2022-08-10T13:45:17.570056",
     "status": "completed"
    },
    "tags": []
   },
   "outputs": [
    {
     "data": {
      "text/plain": [
       "(200853, 6)"
      ]
     },
     "execution_count": 3,
     "metadata": {},
     "output_type": "execute_result"
    }
   ],
   "source": [
    "df.shape"
   ]
  },
  {
   "cell_type": "code",
   "execution_count": null,
   "id": "ac6fda16",
   "metadata": {
    "papermill": {
     "duration": 0.002621,
     "end_time": "2022-08-10T13:45:17.590747",
     "exception": false,
     "start_time": "2022-08-10T13:45:17.588126",
     "status": "completed"
    },
    "tags": []
   },
   "outputs": [],
   "source": []
  }
 ],
 "metadata": {
  "kernelspec": {
   "display_name": "Python 3",
   "language": "python",
   "name": "python3"
  },
  "language_info": {
   "codemirror_mode": {
    "name": "ipython",
    "version": 3
   },
   "file_extension": ".py",
   "mimetype": "text/x-python",
   "name": "python",
   "nbconvert_exporter": "python",
   "pygments_lexer": "ipython3",
   "version": "3.7.12"
  },
  "papermill": {
   "default_parameters": {},
   "duration": 16.309894,
   "end_time": "2022-08-10T13:45:18.723050",
   "environment_variables": {},
   "exception": null,
   "input_path": "__notebook__.ipynb",
   "output_path": "__notebook__.ipynb",
   "parameters": {},
   "start_time": "2022-08-10T13:45:02.413156",
   "version": "2.3.4"
  }
 },
 "nbformat": 4,
 "nbformat_minor": 5
}
